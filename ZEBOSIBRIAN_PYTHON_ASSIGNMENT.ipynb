{
 "cells": [
  {
   "cell_type": "markdown",
   "metadata": {},
   "source": [
    "######################## brian_zebosi_python_assignment ####################################"
   ]
  },
  {
   "cell_type": "markdown",
   "metadata": {},
   "source": [
    " # Importing packages "
   ]
  },
  {
   "cell_type": "code",
   "execution_count": 1,
   "metadata": {
    "collapsed": true
   },
   "outputs": [],
   "source": [
    "import seaborn as sns\n",
    "import requests\n",
    "import urllib\n",
    "from Bio import SeqIO\n",
    "from Bio.Alphabet import generic_dna, generic_rna, generic_nucleotide, generic_protein\n",
    "from Bio.Data import CodonTable\n",
    "from Bio.Seq import Seq\n",
    "import pandas as pd\n",
    "from Bio.SeqUtils.ProtParam import ProteinAnalysis\n",
    "from Bio.SeqUtils import GC\n",
    "from Bio.SeqUtils import molecular_weight\n",
    "import numpy as np\n",
    "import matplotlib.pyplot as plt\n",
    "import argparse\n",
    "%matplotlib inline\n",
    "import urllib.request\n",
    "from Bio.SeqUtils import MeltingTemp as mt"
   ]
  },
  {
   "cell_type": "markdown",
   "metadata": {},
   "source": [
    "# 1. "
   ]
  },
  {
   "cell_type": "code",
   "execution_count": 2,
   "metadata": {
    "collapsed": true
   },
   "outputs": [],
   "source": [
    "def get_sequences_from_file(fasta_fn): #def keyword is used to define the function, \n",
    "   # get_sequences_from_file is the function name, fasta_fn in the () is the paramter/variable under test, \n",
    "    #: tells python whatever is after the line is part of the function  \n",
    "    sequence_data_dict = {} # creating a empty dictionary \n",
    "    for record in SeqIO.parse(fasta_fn, \"fasta\"): # for loop :-  SeqIO.parse() function used to read sequence file as SeqRecord objects one at atime\n",
    "        # two arguments in the () are input file = fasta_fn, file type = fasta i.e. fastn_fn will be read as fasta file\n",
    "        description = record.description.split() \n",
    "        species_name = description[1] + \" \" + description[2] # creating species_names by joining description 1 & 2\n",
    "        sequence_data_dict[species_name] = record.seq # in a dictionary, assigned species_name to record.seq \n",
    "    return(sequence_data_dict)"
   ]
  },
  {
   "cell_type": "markdown",
   "metadata": {},
   "source": [
    " # Importing datafile"
   ]
  },
  {
   "cell_type": "code",
   "execution_count": 3,
   "metadata": {
    "collapsed": true
   },
   "outputs": [],
   "source": [
    "cytb_seqs = get_sequences_from_file(\"penguins_cytb.fasta\") \n",
    "penguin_df = pd.read_csv('penguins_mass.csv') # Includes only data for body mass \n",
    "species_list = list(penguin_df.species)"
   ]
  },
  {
   "cell_type": "markdown",
   "metadata": {},
   "source": [
    "# 2"
   ]
  },
  {
   "cell_type": "code",
   "execution_count": 4,
   "metadata": {
    "collapsed": true
   },
   "outputs": [],
   "source": [
    "def translate_function(sequence):\n",
    "    'function converts DNA sequence to amino acids while leaving the stop codons'\n",
    "    gencode = CodonTable.unambiguous_dna_by_name[\"Vertebrate Mitochondrial\"]  # creates codon table \n",
    "    protein = ''\n",
    "    for i in range(0,len(sequence),3): # for loop through every 3rd position\n",
    "        codon = sequence[i:i+3]\n",
    "        if codon in gencode.stop_codons: # do nothing if there is stop codon\n",
    "            pass\n",
    "        else :\n",
    "            protein = protein + gencode.forward_table[codon]   # add amino acid to codon \n",
    "    return protein"
   ]
  },
  {
   "cell_type": "code",
   "execution_count": 5,
   "metadata": {},
   "outputs": [
    {
     "data": {
      "text/plain": [
       "'MAPNLRKSHPLLKTINNSLIDLPTPSNISAWWNFGSLLGICLATQILTGLLLAAHYTADTTLAFSSVAHMCRNVQYGWLIRNLHANGASFFFICIYLHIGRGLYYGSYLYKETWNTGIILLLTLMATAFVGYVLPWGQMSFWGATVITNLFSAIPYIGQTLVEWAWGGFSVDNPTLTRFFALHFLLPFMITGLTLIHLTFLHESGSNNPLGIVANSDKIPFHPYYSTKDILGFMLLLLPLTTLALFSPNLLGDPENFTPANPLVTPPHIKPEWYFLFAYAILRSIPNKLGGVLALAASVLILFLMPLLHKSKQRTMAFRPLSQLLFWTLVANLIILTWVGSQPVEHPFIIIGQLASFTYFTTLLILFPLAGALENKMLNH'"
      ]
     },
     "execution_count": 5,
     "metadata": {},
     "output_type": "execute_result"
    }
   ],
   "source": [
    "Spheniscus_magellanicus = str(cytb_seqs['Spheniscus magellanicus']) # testing on one of the specie sequenceSpheniscus_magellanicus\n",
    "translate_function(Spheniscus_magellanicus) # test if the function is working "
   ]
  },
  {
   "cell_type": "markdown",
   "metadata": {},
   "source": [
    "# 3"
   ]
  },
  {
   "cell_type": "code",
   "execution_count": 6,
   "metadata": {
    "collapsed": true
   },
   "outputs": [],
   "source": [
    "def translate_dna(sequence):\n",
    "    'function converts DNA sequence to amino acids while leaving the stop codons using biopython' # using this link biopython.org/wiki/Seq to develop my function \n",
    "    dna_seq = Seq(sequence)\n",
    "    protein_seq = dna_seq.translate(table = 2, to_stop = True)\n",
    "    return protein_seq  "
   ]
  },
  {
   "cell_type": "code",
   "execution_count": 7,
   "metadata": {},
   "outputs": [
    {
     "data": {
      "text/plain": [
       "'MAPNLRKSHPLLKTINNSLIDLPTPSNISAWWNFGSLLGICLATQILTGLLLAAHYTADTTLAFSSVAHMCRNVQYGWLIRNLHANGASFFFICIYLHIGRGLYYGSYLYKETWNTGIILLLTLMATAFVGYVLPWGQMSFWGATVITNLFSAIPYIGQTLVEWAWGGFSVDNPTLTRFFALHFLLPFMITGLTLIHLTFLHESGSNNPLGIVANSDKIPFHPYYSTKDILGFMLLLLPLTTLALFSPNLLGDPENFTPANPLVTPPHIKPEWYFLFAYAILRSIPNKLGGVLALAASVLILFLMPLLHKSKQRTMAFRPLSQLLFWTLVANLIILTWVGSQPVEHPFIIIGQLASFTYFTTLLILFPLAGALENKMLNH'"
      ]
     },
     "execution_count": 7,
     "metadata": {},
     "output_type": "execute_result"
    }
   ],
   "source": [
    "str(translate_dna(Spheniscus_magellanicus)) # test if the function is working"
   ]
  },
  {
   "cell_type": "code",
   "execution_count": 8,
   "metadata": {},
   "outputs": [
    {
     "data": {
      "text/plain": [
       "True"
      ]
     },
     "execution_count": 8,
     "metadata": {},
     "output_type": "execute_result"
    }
   ],
   "source": [
    "str(translate_function(Spheniscus_magellanicus)) == str(translate_dna(Spheniscus_magellanicus)) # comparing the two different functions (2 & 3)"
   ]
  },
  {
   "cell_type": "markdown",
   "metadata": {},
   "source": [
    "# 4"
   ]
  },
  {
   "cell_type": "code",
   "execution_count": 9,
   "metadata": {
    "collapsed": true
   },
   "outputs": [],
   "source": [
    "def computed_molecular_weight(sequence):\n",
    "    'function calculates molecular weight'\n",
    "    aa_seq = ProteinAnalysis(sequence)\n",
    "    mole_weight = aa_seq.molecular_weight()\n",
    "    return(mole_weight)"
   ]
  },
  {
   "cell_type": "code",
   "execution_count": 10,
   "metadata": {},
   "outputs": [
    {
     "data": {
      "text/plain": [
       "100902.60200000193"
      ]
     },
     "execution_count": 10,
     "metadata": {},
     "output_type": "execute_result"
    }
   ],
   "source": [
    "computed_molecular_weight(Spheniscus_magellanicus) # test the function "
   ]
  },
  {
   "cell_type": "markdown",
   "metadata": {},
   "source": [
    "# 5"
   ]
  },
  {
   "cell_type": "code",
   "execution_count": 11,
   "metadata": {
    "collapsed": true
   },
   "outputs": [],
   "source": [
    "def gc_content(sequence):\n",
    "    'function that calculates the GC-content (proportion of \"G\" and \"C\") of each DNA sequence'\n",
    "    nbases = sequence.count('n')+sequence.count('N') # Count 'N' or 'n' if available \n",
    "    gc_percent = float(sequence.count('C')+sequence.count('G'))*100.0/(len(sequence)-nbases) # remove N or n from GC ount\n",
    "    return gc_percent  "
   ]
  },
  {
   "cell_type": "code",
   "execution_count": 12,
   "metadata": {},
   "outputs": [
    {
     "data": {
      "text/plain": [
       "48.20647419072616"
      ]
     },
     "execution_count": 12,
     "metadata": {},
     "output_type": "execute_result"
    }
   ],
   "source": [
    "gc_content(Spheniscus_magellanicus) # testing the function"
   ]
  },
  {
   "cell_type": "markdown",
   "metadata": {},
   "source": [
    "#  -- In the MAIN part of the script --#"
   ]
  },
  {
   "cell_type": "markdown",
   "metadata": {},
   "source": [
    "import the data or files"
   ]
  },
  {
   "cell_type": "code",
   "execution_count": 13,
   "metadata": {
    "collapsed": true
   },
   "outputs": [],
   "source": [
    "cytb_seqs = get_sequences_from_file(\"penguins_cytb.fasta\") \n",
    "penguin_df = pd.read_csv(\"penguins_mass.csv\") # Includes only data for body mass \n",
    "species_list = list(penguin_df.species)"
   ]
  },
  {
   "cell_type": "markdown",
   "metadata": {},
   "source": [
    "# 6"
   ]
  },
  {
   "cell_type": "code",
   "execution_count": 14,
   "metadata": {},
   "outputs": [
    {
     "data": {
      "text/html": [
       "<div>\n",
       "<style>\n",
       "    .dataframe thead tr:only-child th {\n",
       "        text-align: right;\n",
       "    }\n",
       "\n",
       "    .dataframe thead th {\n",
       "        text-align: left;\n",
       "    }\n",
       "\n",
       "    .dataframe tbody tr th {\n",
       "        vertical-align: top;\n",
       "    }\n",
       "</style>\n",
       "<table border=\"1\" class=\"dataframe\">\n",
       "  <thead>\n",
       "    <tr style=\"text-align: right;\">\n",
       "      <th></th>\n",
       "      <th>species</th>\n",
       "      <th>mass</th>\n",
       "    </tr>\n",
       "  </thead>\n",
       "  <tbody>\n",
       "    <tr>\n",
       "      <th>0</th>\n",
       "      <td>Aptenodytes forsteri</td>\n",
       "      <td>28.00</td>\n",
       "    </tr>\n",
       "    <tr>\n",
       "      <th>1</th>\n",
       "      <td>Aptenodytes patagonicus</td>\n",
       "      <td>13.40</td>\n",
       "    </tr>\n",
       "    <tr>\n",
       "      <th>2</th>\n",
       "      <td>Eudyptes chrysocome</td>\n",
       "      <td>2.80</td>\n",
       "    </tr>\n",
       "    <tr>\n",
       "      <th>3</th>\n",
       "      <td>Eudyptes chrysolophus</td>\n",
       "      <td>4.50</td>\n",
       "    </tr>\n",
       "    <tr>\n",
       "      <th>4</th>\n",
       "      <td>Eudyptes sclateri</td>\n",
       "      <td>4.25</td>\n",
       "    </tr>\n",
       "    <tr>\n",
       "      <th>5</th>\n",
       "      <td>Eudyptula minor</td>\n",
       "      <td>1.60</td>\n",
       "    </tr>\n",
       "    <tr>\n",
       "      <th>6</th>\n",
       "      <td>Pygoscelis adeliae</td>\n",
       "      <td>4.60</td>\n",
       "    </tr>\n",
       "    <tr>\n",
       "      <th>7</th>\n",
       "      <td>Pygoscelis antarctica</td>\n",
       "      <td>4.10</td>\n",
       "    </tr>\n",
       "    <tr>\n",
       "      <th>8</th>\n",
       "      <td>Pygoscelis papua</td>\n",
       "      <td>6.10</td>\n",
       "    </tr>\n",
       "    <tr>\n",
       "      <th>9</th>\n",
       "      <td>Spheniscus demersus</td>\n",
       "      <td>3.20</td>\n",
       "    </tr>\n",
       "    <tr>\n",
       "      <th>10</th>\n",
       "      <td>Spheniscus humboldti</td>\n",
       "      <td>4.75</td>\n",
       "    </tr>\n",
       "    <tr>\n",
       "      <th>11</th>\n",
       "      <td>Spheniscus magellanicus</td>\n",
       "      <td>3.40</td>\n",
       "    </tr>\n",
       "  </tbody>\n",
       "</table>\n",
       "</div>"
      ],
      "text/plain": [
       "                    species   mass\n",
       "0      Aptenodytes forsteri  28.00\n",
       "1   Aptenodytes patagonicus  13.40\n",
       "2       Eudyptes chrysocome   2.80\n",
       "3     Eudyptes chrysolophus   4.50\n",
       "4         Eudyptes sclateri   4.25\n",
       "5           Eudyptula minor   1.60\n",
       "6        Pygoscelis adeliae   4.60\n",
       "7     Pygoscelis antarctica   4.10\n",
       "8          Pygoscelis papua   6.10\n",
       "9       Spheniscus demersus   3.20\n",
       "10     Spheniscus humboldti   4.75\n",
       "11  Spheniscus magellanicus   3.40"
      ]
     },
     "execution_count": 14,
     "metadata": {},
     "output_type": "execute_result"
    }
   ],
   "source": [
    "penguin_df = pd.read_csv(\"penguins_mass.csv\") \n",
    "penguin_df"
   ]
  },
  {
   "cell_type": "code",
   "execution_count": 15,
   "metadata": {
    "scrolled": true
   },
   "outputs": [
    {
     "data": {
      "text/html": [
       "<div>\n",
       "<style>\n",
       "    .dataframe thead tr:only-child th {\n",
       "        text-align: right;\n",
       "    }\n",
       "\n",
       "    .dataframe thead th {\n",
       "        text-align: left;\n",
       "    }\n",
       "\n",
       "    .dataframe tbody tr th {\n",
       "        vertical-align: top;\n",
       "    }\n",
       "</style>\n",
       "<table border=\"1\" class=\"dataframe\">\n",
       "  <thead>\n",
       "    <tr style=\"text-align: right;\">\n",
       "      <th></th>\n",
       "      <th>species</th>\n",
       "      <th>mass</th>\n",
       "      <th>molecular_weight</th>\n",
       "      <th>GC</th>\n",
       "    </tr>\n",
       "  </thead>\n",
       "  <tbody>\n",
       "    <tr>\n",
       "      <th>0</th>\n",
       "      <td>Aptenodytes forsteri</td>\n",
       "      <td>28.00</td>\n",
       "      <td>NaN</td>\n",
       "      <td>NaN</td>\n",
       "    </tr>\n",
       "    <tr>\n",
       "      <th>1</th>\n",
       "      <td>Aptenodytes patagonicus</td>\n",
       "      <td>13.40</td>\n",
       "      <td>NaN</td>\n",
       "      <td>NaN</td>\n",
       "    </tr>\n",
       "    <tr>\n",
       "      <th>2</th>\n",
       "      <td>Eudyptes chrysocome</td>\n",
       "      <td>2.80</td>\n",
       "      <td>NaN</td>\n",
       "      <td>NaN</td>\n",
       "    </tr>\n",
       "    <tr>\n",
       "      <th>3</th>\n",
       "      <td>Eudyptes chrysolophus</td>\n",
       "      <td>4.50</td>\n",
       "      <td>NaN</td>\n",
       "      <td>NaN</td>\n",
       "    </tr>\n",
       "    <tr>\n",
       "      <th>4</th>\n",
       "      <td>Eudyptes sclateri</td>\n",
       "      <td>4.25</td>\n",
       "      <td>NaN</td>\n",
       "      <td>NaN</td>\n",
       "    </tr>\n",
       "    <tr>\n",
       "      <th>5</th>\n",
       "      <td>Eudyptula minor</td>\n",
       "      <td>1.60</td>\n",
       "      <td>NaN</td>\n",
       "      <td>NaN</td>\n",
       "    </tr>\n",
       "    <tr>\n",
       "      <th>6</th>\n",
       "      <td>Pygoscelis adeliae</td>\n",
       "      <td>4.60</td>\n",
       "      <td>NaN</td>\n",
       "      <td>NaN</td>\n",
       "    </tr>\n",
       "    <tr>\n",
       "      <th>7</th>\n",
       "      <td>Pygoscelis antarctica</td>\n",
       "      <td>4.10</td>\n",
       "      <td>NaN</td>\n",
       "      <td>NaN</td>\n",
       "    </tr>\n",
       "    <tr>\n",
       "      <th>8</th>\n",
       "      <td>Pygoscelis papua</td>\n",
       "      <td>6.10</td>\n",
       "      <td>NaN</td>\n",
       "      <td>NaN</td>\n",
       "    </tr>\n",
       "    <tr>\n",
       "      <th>9</th>\n",
       "      <td>Spheniscus demersus</td>\n",
       "      <td>3.20</td>\n",
       "      <td>NaN</td>\n",
       "      <td>NaN</td>\n",
       "    </tr>\n",
       "    <tr>\n",
       "      <th>10</th>\n",
       "      <td>Spheniscus humboldti</td>\n",
       "      <td>4.75</td>\n",
       "      <td>NaN</td>\n",
       "      <td>NaN</td>\n",
       "    </tr>\n",
       "    <tr>\n",
       "      <th>11</th>\n",
       "      <td>Spheniscus magellanicus</td>\n",
       "      <td>3.40</td>\n",
       "      <td>NaN</td>\n",
       "      <td>NaN</td>\n",
       "    </tr>\n",
       "  </tbody>\n",
       "</table>\n",
       "</div>"
      ],
      "text/plain": [
       "                    species   mass molecular_weight   GC\n",
       "0      Aptenodytes forsteri  28.00              NaN  NaN\n",
       "1   Aptenodytes patagonicus  13.40              NaN  NaN\n",
       "2       Eudyptes chrysocome   2.80              NaN  NaN\n",
       "3     Eudyptes chrysolophus   4.50              NaN  NaN\n",
       "4         Eudyptes sclateri   4.25              NaN  NaN\n",
       "5           Eudyptula minor   1.60              NaN  NaN\n",
       "6        Pygoscelis adeliae   4.60              NaN  NaN\n",
       "7     Pygoscelis antarctica   4.10              NaN  NaN\n",
       "8          Pygoscelis papua   6.10              NaN  NaN\n",
       "9       Spheniscus demersus   3.20              NaN  NaN\n",
       "10     Spheniscus humboldti   4.75              NaN  NaN\n",
       "11  Spheniscus magellanicus   3.40              NaN  NaN"
      ]
     },
     "execution_count": 15,
     "metadata": {},
     "output_type": "execute_result"
    }
   ],
   "source": [
    "penguin_df['molecular_weight'] = 'NaN' # adding molecular weight columm and assigning NaN values \n",
    "penguin_df['GC'] = 'NaN' # adding molecular weight columm and assigning NaN values \n",
    "penguin_df"
   ]
  },
  {
   "cell_type": "markdown",
   "metadata": {},
   "source": [
    "# 7"
   ]
  },
  {
   "cell_type": "code",
   "execution_count": 16,
   "metadata": {},
   "outputs": [
    {
     "data": {
      "text/html": [
       "<div>\n",
       "<style>\n",
       "    .dataframe thead tr:only-child th {\n",
       "        text-align: right;\n",
       "    }\n",
       "\n",
       "    .dataframe thead th {\n",
       "        text-align: left;\n",
       "    }\n",
       "\n",
       "    .dataframe tbody tr th {\n",
       "        vertical-align: top;\n",
       "    }\n",
       "</style>\n",
       "<table border=\"1\" class=\"dataframe\">\n",
       "  <thead>\n",
       "    <tr style=\"text-align: right;\">\n",
       "      <th></th>\n",
       "      <th>species</th>\n",
       "      <th>mass</th>\n",
       "      <th>molecular_weight</th>\n",
       "      <th>GC</th>\n",
       "    </tr>\n",
       "  </thead>\n",
       "  <tbody>\n",
       "    <tr>\n",
       "      <th>0</th>\n",
       "      <td>Aptenodytes forsteri</td>\n",
       "      <td>28.00</td>\n",
       "      <td>NaN</td>\n",
       "      <td>NaN</td>\n",
       "    </tr>\n",
       "    <tr>\n",
       "      <th>1</th>\n",
       "      <td>Aptenodytes patagonicus</td>\n",
       "      <td>13.40</td>\n",
       "      <td>NaN</td>\n",
       "      <td>NaN</td>\n",
       "    </tr>\n",
       "    <tr>\n",
       "      <th>2</th>\n",
       "      <td>Eudyptes chrysocome</td>\n",
       "      <td>2.80</td>\n",
       "      <td>NaN</td>\n",
       "      <td>NaN</td>\n",
       "    </tr>\n",
       "    <tr>\n",
       "      <th>3</th>\n",
       "      <td>Eudyptes chrysolophus</td>\n",
       "      <td>4.50</td>\n",
       "      <td>NaN</td>\n",
       "      <td>NaN</td>\n",
       "    </tr>\n",
       "    <tr>\n",
       "      <th>4</th>\n",
       "      <td>Eudyptes sclateri</td>\n",
       "      <td>4.25</td>\n",
       "      <td>NaN</td>\n",
       "      <td>NaN</td>\n",
       "    </tr>\n",
       "    <tr>\n",
       "      <th>5</th>\n",
       "      <td>Eudyptula minor</td>\n",
       "      <td>1.60</td>\n",
       "      <td>NaN</td>\n",
       "      <td>NaN</td>\n",
       "    </tr>\n",
       "    <tr>\n",
       "      <th>6</th>\n",
       "      <td>Pygoscelis adeliae</td>\n",
       "      <td>4.60</td>\n",
       "      <td>NaN</td>\n",
       "      <td>NaN</td>\n",
       "    </tr>\n",
       "    <tr>\n",
       "      <th>7</th>\n",
       "      <td>Pygoscelis antarctica</td>\n",
       "      <td>4.10</td>\n",
       "      <td>NaN</td>\n",
       "      <td>NaN</td>\n",
       "    </tr>\n",
       "    <tr>\n",
       "      <th>8</th>\n",
       "      <td>Pygoscelis papua</td>\n",
       "      <td>6.10</td>\n",
       "      <td>NaN</td>\n",
       "      <td>NaN</td>\n",
       "    </tr>\n",
       "    <tr>\n",
       "      <th>9</th>\n",
       "      <td>Spheniscus demersus</td>\n",
       "      <td>3.20</td>\n",
       "      <td>NaN</td>\n",
       "      <td>NaN</td>\n",
       "    </tr>\n",
       "    <tr>\n",
       "      <th>10</th>\n",
       "      <td>Spheniscus humboldti</td>\n",
       "      <td>4.75</td>\n",
       "      <td>NaN</td>\n",
       "      <td>NaN</td>\n",
       "    </tr>\n",
       "    <tr>\n",
       "      <th>11</th>\n",
       "      <td>Spheniscus magellanicus</td>\n",
       "      <td>3.40</td>\n",
       "      <td>NaN</td>\n",
       "      <td>NaN</td>\n",
       "    </tr>\n",
       "  </tbody>\n",
       "</table>\n",
       "</div>"
      ],
      "text/plain": [
       "                    species   mass molecular_weight   GC\n",
       "0      Aptenodytes forsteri  28.00              NaN  NaN\n",
       "1   Aptenodytes patagonicus  13.40              NaN  NaN\n",
       "2       Eudyptes chrysocome   2.80              NaN  NaN\n",
       "3     Eudyptes chrysolophus   4.50              NaN  NaN\n",
       "4         Eudyptes sclateri   4.25              NaN  NaN\n",
       "5           Eudyptula minor   1.60              NaN  NaN\n",
       "6        Pygoscelis adeliae   4.60              NaN  NaN\n",
       "7     Pygoscelis antarctica   4.10              NaN  NaN\n",
       "8          Pygoscelis papua   6.10              NaN  NaN\n",
       "9       Spheniscus demersus   3.20              NaN  NaN\n",
       "10     Spheniscus humboldti   4.75              NaN  NaN\n",
       "11  Spheniscus magellanicus   3.40              NaN  NaN"
      ]
     },
     "execution_count": 16,
     "metadata": {},
     "output_type": "execute_result"
    }
   ],
   "source": [
    "penguincopied_df = penguin_df.copy() # making copy and will use it for bonus section \n",
    "penguincopied_df"
   ]
  },
  {
   "cell_type": "code",
   "execution_count": 17,
   "metadata": {},
   "outputs": [
    {
     "data": {
      "text/plain": [
       "array(['species', 'mass', 'molecular_weight', 'GC'], dtype=object)"
      ]
     },
     "execution_count": 17,
     "metadata": {},
     "output_type": "execute_result"
    }
   ],
   "source": [
    "penguin_df.columns.values # checking the colunm headers "
   ]
  },
  {
   "cell_type": "code",
   "execution_count": 18,
   "metadata": {},
   "outputs": [
    {
     "name": "stdout",
     "output_type": "stream",
     "text": [
      "                    species   mass molecular_weight       GC\n",
      "0      Aptenodytes forsteri  28.00          42458.6  49.0814\n",
      "1   Aptenodytes patagonicus  13.40          42475.6  50.8311\n",
      "2       Eudyptes chrysocome   2.80          42431.5   48.294\n",
      "3     Eudyptes chrysolophus   4.50          42595.9  47.1566\n",
      "4         Eudyptes sclateri   4.25          42491.6  49.2563\n",
      "5           Eudyptula minor   1.60          42563.7  49.6938\n",
      "6        Pygoscelis adeliae   4.60          42445.5  50.9186\n",
      "7     Pygoscelis antarctica   4.10          42399.6  49.2563\n",
      "8          Pygoscelis papua   6.10          42459.6  48.2065\n",
      "9       Spheniscus demersus   3.20          42459.6  48.3815\n",
      "10     Spheniscus humboldti   4.75          42404.5   47.769\n",
      "11  Spheniscus magellanicus   3.40          42475.6  51.1811\n"
     ]
    }
   ],
   "source": [
    "index = 0 #creates index at 0\n",
    "for key,value in cytb_seqs.items():#for loop  through each key ,value to set cytb_seqs as a dictionary\n",
    "    aa_sequence = translate_function(str(value)) #translate DNA nucleotides into aminio acids\n",
    "    molecular_weight_cal = computed_molecular_weight(aa_sequence) # compute molecular weight\n",
    "    GC_cal = gc_content(str(value)) # compute gc content from the dna sequence - value\n",
    "    penguin_df.set_value(index,'GC', GC_cal) # \n",
    "    penguin_df.set_value(index,'molecular_weight', molecular_weight_cal)\n",
    "    index += 1 # #increase index by one to move foward to the next row in the next loop\n",
    "print(penguin_df)  \n",
    "#  source guide for the code ' \n",
    "# http://stackoverflow.com/questions/13842088/set-value-for-particular-cell-in-pandas-dataframe'"
   ]
  },
  {
   "cell_type": "markdown",
   "metadata": {},
   "source": [
    "# 8"
   ]
  },
  {
   "cell_type": "code",
   "execution_count": 19,
   "metadata": {},
   "outputs": [
    {
     "data": {
      "text/plain": [
       "Text(0.5,1,' Mass against penguin spieces')"
      ]
     },
     "execution_count": 19,
     "metadata": {},
     "output_type": "execute_result"
    },
    {
     "data": {
      "image/png": "[encoded data removed]",
      "text/plain": [
       "<matplotlib.figure.Figure at 0x7f1eca656390>"
      ]
     },
     "metadata": {},
     "output_type": "display_data"
    }
   ],
   "source": [
    "bar1 = sns.barplot(x = 'species', y= 'mass', data = penguin_df) # plot using seaborn\n",
    "bar1.set_xticklabels(labels = penguin_df.species, rotation= 45, horizontalalignment='right')\n",
    "bar1.set_title(' Mass against penguin spieces')"
   ]
  },
  {
   "cell_type": "markdown",
   "metadata": {},
   "source": [
    "# 9"
   ]
  },
  {
   "cell_type": "code",
   "execution_count": 20,
   "metadata": {},
   "outputs": [
    {
     "data": {
      "text/plain": [
       "<seaborn.axisgrid.FacetGrid at 0x7f1ec27b2ac8>"
      ]
     },
     "execution_count": 20,
     "metadata": {},
     "output_type": "execute_result"
    },
    {
     "data": {
      "image/png": "[encoded data removed]",
      "text/plain": [
       "<matplotlib.figure.Figure at 0x7f1ec27ad898>"
      ]
     },
     "metadata": {},
     "output_type": "display_data"
    }
   ],
   "source": [
    "sns.set(font_scale=1.3)\n",
    "bar2 = sns.lmplot(x = 'GC', y = 'molecular_weight', data= penguin_df, fit_reg=False, size=6, aspect = 1.5, scatter_kws={'alpha':1,\"s\": 150},hue='species',markers='x')\n",
    "bar2.set_axis_labels('GC content', 'Molecular Weight')"
   ]
  },
  {
   "cell_type": "markdown",
   "metadata": {},
   "source": [
    "# 10"
   ]
  },
  {
   "cell_type": "code",
   "execution_count": 21,
   "metadata": {
    "collapsed": true
   },
   "outputs": [],
   "source": [
    "penguin_df.to_csv('penguins_mass_cytb.csv', sep=',',index=False, encoding='utf-8', )"
   ]
  },
  {
   "cell_type": "markdown",
   "metadata": {},
   "source": [
    "# 11"
   ]
  },
  {
   "cell_type": "markdown",
   "metadata": {},
   "source": [
    "    my bonus question i wrote function to compute melting temperature based on GC content\n",
    "    plot the relationship between GC content and temperature "
   ]
  },
  {
   "cell_type": "code",
   "execution_count": 22,
   "metadata": {
    "collapsed": true
   },
   "outputs": [],
   "source": [
    "def compute_melting_temp(sequence):\n",
    "    'function that calculates tm'\n",
    "    aa_seq = str(Seq(sequence))\n",
    "    TM = mt.Tm_GC(aa_seq)\n",
    "    return TM"
   ]
  },
  {
   "cell_type": "code",
   "execution_count": 23,
   "metadata": {},
   "outputs": [
    {
     "data": {
      "text/plain": [
       "78.8946123004108"
      ]
     },
     "execution_count": 23,
     "metadata": {},
     "output_type": "execute_result"
    }
   ],
   "source": [
    "compute_melting_temp(Spheniscus_magellanicus) # testing function"
   ]
  },
  {
   "cell_type": "code",
   "execution_count": 24,
   "metadata": {},
   "outputs": [
    {
     "data": {
      "text/html": [
       "<div>\n",
       "<style>\n",
       "    .dataframe thead tr:only-child th {\n",
       "        text-align: right;\n",
       "    }\n",
       "\n",
       "    .dataframe thead th {\n",
       "        text-align: left;\n",
       "    }\n",
       "\n",
       "    .dataframe tbody tr th {\n",
       "        vertical-align: top;\n",
       "    }\n",
       "</style>\n",
       "<table border=\"1\" class=\"dataframe\">\n",
       "  <thead>\n",
       "    <tr style=\"text-align: right;\">\n",
       "      <th></th>\n",
       "      <th>species</th>\n",
       "      <th>mass</th>\n",
       "      <th>molecular_weight</th>\n",
       "      <th>GC</th>\n",
       "      <th>TM</th>\n",
       "    </tr>\n",
       "  </thead>\n",
       "  <tbody>\n",
       "    <tr>\n",
       "      <th>0</th>\n",
       "      <td>Aptenodytes forsteri</td>\n",
       "      <td>28.00</td>\n",
       "      <td>NaN</td>\n",
       "      <td>NaN</td>\n",
       "      <td>NaN</td>\n",
       "    </tr>\n",
       "    <tr>\n",
       "      <th>1</th>\n",
       "      <td>Aptenodytes patagonicus</td>\n",
       "      <td>13.40</td>\n",
       "      <td>NaN</td>\n",
       "      <td>NaN</td>\n",
       "      <td>NaN</td>\n",
       "    </tr>\n",
       "    <tr>\n",
       "      <th>2</th>\n",
       "      <td>Eudyptes chrysocome</td>\n",
       "      <td>2.80</td>\n",
       "      <td>NaN</td>\n",
       "      <td>NaN</td>\n",
       "      <td>NaN</td>\n",
       "    </tr>\n",
       "    <tr>\n",
       "      <th>3</th>\n",
       "      <td>Eudyptes chrysolophus</td>\n",
       "      <td>4.50</td>\n",
       "      <td>NaN</td>\n",
       "      <td>NaN</td>\n",
       "      <td>NaN</td>\n",
       "    </tr>\n",
       "    <tr>\n",
       "      <th>4</th>\n",
       "      <td>Eudyptes sclateri</td>\n",
       "      <td>4.25</td>\n",
       "      <td>NaN</td>\n",
       "      <td>NaN</td>\n",
       "      <td>NaN</td>\n",
       "    </tr>\n",
       "    <tr>\n",
       "      <th>5</th>\n",
       "      <td>Eudyptula minor</td>\n",
       "      <td>1.60</td>\n",
       "      <td>NaN</td>\n",
       "      <td>NaN</td>\n",
       "      <td>NaN</td>\n",
       "    </tr>\n",
       "    <tr>\n",
       "      <th>6</th>\n",
       "      <td>Pygoscelis adeliae</td>\n",
       "      <td>4.60</td>\n",
       "      <td>NaN</td>\n",
       "      <td>NaN</td>\n",
       "      <td>NaN</td>\n",
       "    </tr>\n",
       "    <tr>\n",
       "      <th>7</th>\n",
       "      <td>Pygoscelis antarctica</td>\n",
       "      <td>4.10</td>\n",
       "      <td>NaN</td>\n",
       "      <td>NaN</td>\n",
       "      <td>NaN</td>\n",
       "    </tr>\n",
       "    <tr>\n",
       "      <th>8</th>\n",
       "      <td>Pygoscelis papua</td>\n",
       "      <td>6.10</td>\n",
       "      <td>NaN</td>\n",
       "      <td>NaN</td>\n",
       "      <td>NaN</td>\n",
       "    </tr>\n",
       "    <tr>\n",
       "      <th>9</th>\n",
       "      <td>Spheniscus demersus</td>\n",
       "      <td>3.20</td>\n",
       "      <td>NaN</td>\n",
       "      <td>NaN</td>\n",
       "      <td>NaN</td>\n",
       "    </tr>\n",
       "    <tr>\n",
       "      <th>10</th>\n",
       "      <td>Spheniscus humboldti</td>\n",
       "      <td>4.75</td>\n",
       "      <td>NaN</td>\n",
       "      <td>NaN</td>\n",
       "      <td>NaN</td>\n",
       "    </tr>\n",
       "    <tr>\n",
       "      <th>11</th>\n",
       "      <td>Spheniscus magellanicus</td>\n",
       "      <td>3.40</td>\n",
       "      <td>NaN</td>\n",
       "      <td>NaN</td>\n",
       "      <td>NaN</td>\n",
       "    </tr>\n",
       "  </tbody>\n",
       "</table>\n",
       "</div>"
      ],
      "text/plain": [
       "                    species   mass molecular_weight   GC   TM\n",
       "0      Aptenodytes forsteri  28.00              NaN  NaN  NaN\n",
       "1   Aptenodytes patagonicus  13.40              NaN  NaN  NaN\n",
       "2       Eudyptes chrysocome   2.80              NaN  NaN  NaN\n",
       "3     Eudyptes chrysolophus   4.50              NaN  NaN  NaN\n",
       "4         Eudyptes sclateri   4.25              NaN  NaN  NaN\n",
       "5           Eudyptula minor   1.60              NaN  NaN  NaN\n",
       "6        Pygoscelis adeliae   4.60              NaN  NaN  NaN\n",
       "7     Pygoscelis antarctica   4.10              NaN  NaN  NaN\n",
       "8          Pygoscelis papua   6.10              NaN  NaN  NaN\n",
       "9       Spheniscus demersus   3.20              NaN  NaN  NaN\n",
       "10     Spheniscus humboldti   4.75              NaN  NaN  NaN\n",
       "11  Spheniscus magellanicus   3.40              NaN  NaN  NaN"
      ]
     },
     "execution_count": 24,
     "metadata": {},
     "output_type": "execute_result"
    }
   ],
   "source": [
    "penguincopied_df['TM'] = 'NaN' # create TM colunm and assigning NaN\n",
    "penguincopied_df"
   ]
  },
  {
   "cell_type": "code",
   "execution_count": 25,
   "metadata": {},
   "outputs": [
    {
     "name": "stdout",
     "output_type": "stream",
     "text": [
      "                    species   mass molecular_weight       GC       TM\n",
      "0      Aptenodytes forsteri  28.00          42458.6  49.0814  79.2533\n",
      "1   Aptenodytes patagonicus  13.40          42475.6  50.8311  79.9707\n",
      "2       Eudyptes chrysocome   2.80          42431.5   48.294  78.9305\n",
      "3     Eudyptes chrysolophus   4.50          42595.9  47.1566  78.4642\n",
      "4         Eudyptes sclateri   4.25          42491.6  49.2563  79.3251\n",
      "5           Eudyptula minor   1.60          42563.7  49.6938  79.5044\n",
      "6        Pygoscelis adeliae   4.60          42445.5  50.9186  80.0066\n",
      "7     Pygoscelis antarctica   4.10          42399.6  49.2563  79.3251\n",
      "8          Pygoscelis papua   6.10          42459.6  48.2065  78.8946\n",
      "9       Spheniscus demersus   3.20          42459.6  48.3815  78.9664\n",
      "10     Spheniscus humboldti   4.75          42404.5   47.769  78.7153\n",
      "11  Spheniscus magellanicus   3.40          42475.6  51.1811  80.1142\n"
     ]
    }
   ],
   "source": [
    "index = 0 #creates index at 0\n",
    "for key,value in cytb_seqs.items():#for loop  through each key ,value to set cytb_seqs as a dictionary\n",
    "    aa_sequence = translate_function(str(value)) #translate DNA nucleotides into aminio acids\n",
    "    molecular_weight_cal = computed_molecular_weight(aa_sequence) # compute molecular weight\n",
    "    GC_cal = gc_content(str(value)) # compute gc content from the dna sequence - value\n",
    "    tm_computed = compute_melting_temp(str(value))\n",
    "    penguincopied_df.set_value(index,'GC', GC_cal) # \n",
    "    penguincopied_df.set_value(index,'molecular_weight', molecular_weight_cal)\n",
    "    penguincopied_df.set_value(index,'TM', tm_computed)\n",
    "    index += 1 # #increase index by one to move foward to the next row in the next loop\n",
    "print(penguincopied_df) "
   ]
  },
  {
   "cell_type": "code",
   "execution_count": 26,
   "metadata": {},
   "outputs": [
    {
     "data": {
      "text/plain": [
       "<seaborn.axisgrid.FacetGrid at 0x7f1eca5fc160>"
      ]
     },
     "execution_count": 26,
     "metadata": {},
     "output_type": "execute_result"
    },
    {
     "data": {
      "image/png": "[encoded data removed]",
      "text/plain": [
       "<matplotlib.figure.Figure at 0x7f1eca5fc828>"
      ]
     },
     "metadata": {},
     "output_type": "display_data"
    }
   ],
   "source": [
    "bar3 = sns.lmplot(x = 'GC', y= 'TM', data= penguincopied_df, fit_reg=False, size=6, aspect = 1.5, scatter_kws={'alpha':1,\"s\": 150},hue='species',markers='x')\n",
    "bar3.set_axis_labels('GC content', 'Melting_temperature') "
   ]
  },
  {
   "cell_type": "markdown",
   "metadata": {},
   "source": [
    "#                                                 END"
   ]
  }
 ],
 "metadata": {
  "kernelspec": {
   "display_name": "Python [default]",
   "language": "python",
   "name": "python3"
  },
  "language_info": {
   "codemirror_mode": {
    "name": "ipython",
    "version": 3
   },
   "file_extension": ".py",
   "mimetype": "text/x-python",
   "name": "python",
   "nbconvert_exporter": "python",
   "pygments_lexer": "ipython3",
   "version": "3.5.4"
  }
 },
 "nbformat": 4,
 "nbformat_minor": 2
}
